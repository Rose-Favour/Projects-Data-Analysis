{
 "cells": [
  {
   "cell_type": "code",
   "execution_count": 1,
   "id": "80577220",
   "metadata": {},
   "outputs": [],
   "source": [
    "import pandas as pd\n",
    "import matplotlib.pyplot as plt\n",
    "import seaborn as sns"
   ]
  },
  {
   "cell_type": "code",
   "execution_count": 2,
   "id": "916f8f1e",
   "metadata": {},
   "outputs": [
    {
     "data": {
      "text/plain": [
       "CustomerID             0\n",
       "Gender                 0\n",
       "Location               0\n",
       "Tenure_Months          0\n",
       "Transaction_ID         0\n",
       "Transaction_Date       0\n",
       "Product_SKU            0\n",
       "Product_Description    0\n",
       "Product_Category       0\n",
       "Quantity               0\n",
       "Avg_Price              0\n",
       "Delivery_Charges       0\n",
       "Coupon_Status          0\n",
       "GST                    0\n",
       "Offline_Spend          0\n",
       "Online_Spend           0\n",
       "Month                  0\n",
       "Coupon_Code            0\n",
       "Discount_pct           0\n",
       "dtype: int64"
      ]
     },
     "execution_count": 2,
     "metadata": {},
     "output_type": "execute_result"
    }
   ],
   "source": [
    "#Importing the data and cleaning the dataset\n",
    "online_shop = pd.read_csv('online-shopping.csv')\n",
    "online_shop2 = online_shop.drop(['Unnamed: 0','Date'], axis = 1)\n",
    "online_shop3 = online_shop2.dropna(axis=0)\n",
    "online_shop3.isnull().sum()"
   ]
  },
  {
   "cell_type": "markdown",
   "id": "2634ea77",
   "metadata": {},
   "source": [
    "# Product analysis"
   ]
  },
  {
   "cell_type": "code",
   "execution_count": 3,
   "id": "f2ab2082",
   "metadata": {},
   "outputs": [
    {
     "data": {
      "text/html": [
       "<div>\n",
       "<style scoped>\n",
       "    .dataframe tbody tr th:only-of-type {\n",
       "        vertical-align: middle;\n",
       "    }\n",
       "\n",
       "    .dataframe tbody tr th {\n",
       "        vertical-align: top;\n",
       "    }\n",
       "\n",
       "    .dataframe thead th {\n",
       "        text-align: right;\n",
       "    }\n",
       "</style>\n",
       "<table border=\"1\" class=\"dataframe\">\n",
       "  <thead>\n",
       "    <tr style=\"text-align: right;\">\n",
       "      <th></th>\n",
       "      <th>CustomerID</th>\n",
       "      <th>Gender</th>\n",
       "      <th>Location</th>\n",
       "      <th>Tenure_Months</th>\n",
       "      <th>Transaction_ID</th>\n",
       "      <th>Transaction_Date</th>\n",
       "      <th>Product_SKU</th>\n",
       "      <th>Product_Description</th>\n",
       "      <th>Product_Category</th>\n",
       "      <th>Quantity</th>\n",
       "      <th>Avg_Price</th>\n",
       "      <th>Delivery_Charges</th>\n",
       "      <th>Coupon_Status</th>\n",
       "      <th>GST</th>\n",
       "      <th>Offline_Spend</th>\n",
       "      <th>Online_Spend</th>\n",
       "      <th>Month</th>\n",
       "      <th>Coupon_Code</th>\n",
       "      <th>Discount_pct</th>\n",
       "    </tr>\n",
       "  </thead>\n",
       "  <tbody>\n",
       "    <tr>\n",
       "      <th>0</th>\n",
       "      <td>17850.0</td>\n",
       "      <td>M</td>\n",
       "      <td>Chicago</td>\n",
       "      <td>12.0</td>\n",
       "      <td>16679.0</td>\n",
       "      <td>2019-01-01</td>\n",
       "      <td>GGOENEBJ079499</td>\n",
       "      <td>Nest Learning Thermostat 3rd Gen-USA - Stainle...</td>\n",
       "      <td>Nest-USA</td>\n",
       "      <td>1.0</td>\n",
       "      <td>153.71</td>\n",
       "      <td>6.5</td>\n",
       "      <td>Used</td>\n",
       "      <td>0.1</td>\n",
       "      <td>4500.0</td>\n",
       "      <td>2424.5</td>\n",
       "      <td>1</td>\n",
       "      <td>ELEC10</td>\n",
       "      <td>10.0</td>\n",
       "    </tr>\n",
       "    <tr>\n",
       "      <th>1</th>\n",
       "      <td>17850.0</td>\n",
       "      <td>M</td>\n",
       "      <td>Chicago</td>\n",
       "      <td>12.0</td>\n",
       "      <td>16680.0</td>\n",
       "      <td>2019-01-01</td>\n",
       "      <td>GGOENEBJ079499</td>\n",
       "      <td>Nest Learning Thermostat 3rd Gen-USA - Stainle...</td>\n",
       "      <td>Nest-USA</td>\n",
       "      <td>1.0</td>\n",
       "      <td>153.71</td>\n",
       "      <td>6.5</td>\n",
       "      <td>Used</td>\n",
       "      <td>0.1</td>\n",
       "      <td>4500.0</td>\n",
       "      <td>2424.5</td>\n",
       "      <td>1</td>\n",
       "      <td>ELEC10</td>\n",
       "      <td>10.0</td>\n",
       "    </tr>\n",
       "    <tr>\n",
       "      <th>2</th>\n",
       "      <td>17850.0</td>\n",
       "      <td>M</td>\n",
       "      <td>Chicago</td>\n",
       "      <td>12.0</td>\n",
       "      <td>16696.0</td>\n",
       "      <td>2019-01-01</td>\n",
       "      <td>GGOENEBQ078999</td>\n",
       "      <td>Nest Cam Outdoor Security Camera - USA</td>\n",
       "      <td>Nest-USA</td>\n",
       "      <td>2.0</td>\n",
       "      <td>122.77</td>\n",
       "      <td>6.5</td>\n",
       "      <td>Not Used</td>\n",
       "      <td>0.1</td>\n",
       "      <td>4500.0</td>\n",
       "      <td>2424.5</td>\n",
       "      <td>1</td>\n",
       "      <td>ELEC10</td>\n",
       "      <td>10.0</td>\n",
       "    </tr>\n",
       "    <tr>\n",
       "      <th>3</th>\n",
       "      <td>17850.0</td>\n",
       "      <td>M</td>\n",
       "      <td>Chicago</td>\n",
       "      <td>12.0</td>\n",
       "      <td>16699.0</td>\n",
       "      <td>2019-01-01</td>\n",
       "      <td>GGOENEBQ079099</td>\n",
       "      <td>Nest Protect Smoke + CO White Battery Alarm-USA</td>\n",
       "      <td>Nest-USA</td>\n",
       "      <td>1.0</td>\n",
       "      <td>81.50</td>\n",
       "      <td>6.5</td>\n",
       "      <td>Clicked</td>\n",
       "      <td>0.1</td>\n",
       "      <td>4500.0</td>\n",
       "      <td>2424.5</td>\n",
       "      <td>1</td>\n",
       "      <td>ELEC10</td>\n",
       "      <td>10.0</td>\n",
       "    </tr>\n",
       "    <tr>\n",
       "      <th>4</th>\n",
       "      <td>17850.0</td>\n",
       "      <td>M</td>\n",
       "      <td>Chicago</td>\n",
       "      <td>12.0</td>\n",
       "      <td>16700.0</td>\n",
       "      <td>2019-01-01</td>\n",
       "      <td>GGOENEBJ079499</td>\n",
       "      <td>Nest Learning Thermostat 3rd Gen-USA - Stainle...</td>\n",
       "      <td>Nest-USA</td>\n",
       "      <td>1.0</td>\n",
       "      <td>153.71</td>\n",
       "      <td>6.5</td>\n",
       "      <td>Clicked</td>\n",
       "      <td>0.1</td>\n",
       "      <td>4500.0</td>\n",
       "      <td>2424.5</td>\n",
       "      <td>1</td>\n",
       "      <td>ELEC10</td>\n",
       "      <td>10.0</td>\n",
       "    </tr>\n",
       "  </tbody>\n",
       "</table>\n",
       "</div>"
      ],
      "text/plain": [
       "   CustomerID Gender Location  Tenure_Months  Transaction_ID Transaction_Date  \\\n",
       "0     17850.0      M  Chicago           12.0         16679.0       2019-01-01   \n",
       "1     17850.0      M  Chicago           12.0         16680.0       2019-01-01   \n",
       "2     17850.0      M  Chicago           12.0         16696.0       2019-01-01   \n",
       "3     17850.0      M  Chicago           12.0         16699.0       2019-01-01   \n",
       "4     17850.0      M  Chicago           12.0         16700.0       2019-01-01   \n",
       "\n",
       "      Product_SKU                                Product_Description  \\\n",
       "0  GGOENEBJ079499  Nest Learning Thermostat 3rd Gen-USA - Stainle...   \n",
       "1  GGOENEBJ079499  Nest Learning Thermostat 3rd Gen-USA - Stainle...   \n",
       "2  GGOENEBQ078999             Nest Cam Outdoor Security Camera - USA   \n",
       "3  GGOENEBQ079099    Nest Protect Smoke + CO White Battery Alarm-USA   \n",
       "4  GGOENEBJ079499  Nest Learning Thermostat 3rd Gen-USA - Stainle...   \n",
       "\n",
       "  Product_Category  Quantity  Avg_Price  Delivery_Charges Coupon_Status  GST  \\\n",
       "0         Nest-USA       1.0     153.71               6.5          Used  0.1   \n",
       "1         Nest-USA       1.0     153.71               6.5          Used  0.1   \n",
       "2         Nest-USA       2.0     122.77               6.5      Not Used  0.1   \n",
       "3         Nest-USA       1.0      81.50               6.5       Clicked  0.1   \n",
       "4         Nest-USA       1.0     153.71               6.5       Clicked  0.1   \n",
       "\n",
       "   Offline_Spend  Online_Spend  Month Coupon_Code  Discount_pct  \n",
       "0         4500.0        2424.5      1      ELEC10          10.0  \n",
       "1         4500.0        2424.5      1      ELEC10          10.0  \n",
       "2         4500.0        2424.5      1      ELEC10          10.0  \n",
       "3         4500.0        2424.5      1      ELEC10          10.0  \n",
       "4         4500.0        2424.5      1      ELEC10          10.0  "
      ]
     },
     "execution_count": 3,
     "metadata": {},
     "output_type": "execute_result"
    }
   ],
   "source": [
    "#Most viewed products\n",
    "\n",
    "online_shop3.head()\n",
    "#online_shop3['Product_SKU'].value_counts().sum()"
   ]
  },
  {
   "cell_type": "code",
   "execution_count": 4,
   "id": "27f19657",
   "metadata": {},
   "outputs": [
    {
     "data": {
      "text/plain": [
       "array(['Nest-USA', 'Office', 'Apparel', 'Bags', 'Drinkware', 'Lifestyle',\n",
       "       'Waze', 'Headgear', 'Notebooks & Journals', 'Nest-Canada',\n",
       "       'Bottles', 'Gift Cards', 'Housewares', 'Android', 'Nest',\n",
       "       'Accessories'], dtype=object)"
      ]
     },
     "execution_count": 4,
     "metadata": {},
     "output_type": "execute_result"
    }
   ],
   "source": [
    "online_shop3['Product_Category'].unique()"
   ]
  },
  {
   "cell_type": "code",
   "execution_count": 5,
   "id": "b0534662",
   "metadata": {},
   "outputs": [
    {
     "name": "stderr",
     "output_type": "stream",
     "text": [
      "C:\\Users\\User\\AppData\\Local\\Temp\\ipykernel_6424\\2754260881.py:1: SettingWithCopyWarning: \n",
      "A value is trying to be set on a copy of a slice from a DataFrame.\n",
      "Try using .loc[row_indexer,col_indexer] = value instead\n",
      "\n",
      "See the caveats in the documentation: https://pandas.pydata.org/pandas-docs/stable/user_guide/indexing.html#returning-a-view-versus-a-copy\n",
      "  online_shop3['TotalPrice'] = online_shop3['Quantity']*online_shop3['Avg_Price']\n"
     ]
    },
    {
     "data": {
      "text/html": [
       "<div>\n",
       "<style scoped>\n",
       "    .dataframe tbody tr th:only-of-type {\n",
       "        vertical-align: middle;\n",
       "    }\n",
       "\n",
       "    .dataframe tbody tr th {\n",
       "        vertical-align: top;\n",
       "    }\n",
       "\n",
       "    .dataframe thead th {\n",
       "        text-align: right;\n",
       "    }\n",
       "</style>\n",
       "<table border=\"1\" class=\"dataframe\">\n",
       "  <thead>\n",
       "    <tr style=\"text-align: right;\">\n",
       "      <th></th>\n",
       "      <th>CustomerID</th>\n",
       "      <th>Gender</th>\n",
       "      <th>Location</th>\n",
       "      <th>Tenure_Months</th>\n",
       "      <th>Transaction_ID</th>\n",
       "      <th>Transaction_Date</th>\n",
       "      <th>Product_SKU</th>\n",
       "      <th>Product_Description</th>\n",
       "      <th>Product_Category</th>\n",
       "      <th>Quantity</th>\n",
       "      <th>Avg_Price</th>\n",
       "      <th>Delivery_Charges</th>\n",
       "      <th>Coupon_Status</th>\n",
       "      <th>GST</th>\n",
       "      <th>Offline_Spend</th>\n",
       "      <th>Online_Spend</th>\n",
       "      <th>Month</th>\n",
       "      <th>Coupon_Code</th>\n",
       "      <th>Discount_pct</th>\n",
       "      <th>TotalPrice</th>\n",
       "    </tr>\n",
       "  </thead>\n",
       "  <tbody>\n",
       "    <tr>\n",
       "      <th>0</th>\n",
       "      <td>17850.0</td>\n",
       "      <td>M</td>\n",
       "      <td>Chicago</td>\n",
       "      <td>12.0</td>\n",
       "      <td>16679.0</td>\n",
       "      <td>2019-01-01</td>\n",
       "      <td>GGOENEBJ079499</td>\n",
       "      <td>Nest Learning Thermostat 3rd Gen-USA - Stainle...</td>\n",
       "      <td>Nest-USA</td>\n",
       "      <td>1.0</td>\n",
       "      <td>153.71</td>\n",
       "      <td>6.5</td>\n",
       "      <td>Used</td>\n",
       "      <td>0.1</td>\n",
       "      <td>4500.0</td>\n",
       "      <td>2424.5</td>\n",
       "      <td>1</td>\n",
       "      <td>ELEC10</td>\n",
       "      <td>10.0</td>\n",
       "      <td>153.71</td>\n",
       "    </tr>\n",
       "    <tr>\n",
       "      <th>1</th>\n",
       "      <td>17850.0</td>\n",
       "      <td>M</td>\n",
       "      <td>Chicago</td>\n",
       "      <td>12.0</td>\n",
       "      <td>16680.0</td>\n",
       "      <td>2019-01-01</td>\n",
       "      <td>GGOENEBJ079499</td>\n",
       "      <td>Nest Learning Thermostat 3rd Gen-USA - Stainle...</td>\n",
       "      <td>Nest-USA</td>\n",
       "      <td>1.0</td>\n",
       "      <td>153.71</td>\n",
       "      <td>6.5</td>\n",
       "      <td>Used</td>\n",
       "      <td>0.1</td>\n",
       "      <td>4500.0</td>\n",
       "      <td>2424.5</td>\n",
       "      <td>1</td>\n",
       "      <td>ELEC10</td>\n",
       "      <td>10.0</td>\n",
       "      <td>153.71</td>\n",
       "    </tr>\n",
       "  </tbody>\n",
       "</table>\n",
       "</div>"
      ],
      "text/plain": [
       "   CustomerID Gender Location  Tenure_Months  Transaction_ID Transaction_Date  \\\n",
       "0     17850.0      M  Chicago           12.0         16679.0       2019-01-01   \n",
       "1     17850.0      M  Chicago           12.0         16680.0       2019-01-01   \n",
       "\n",
       "      Product_SKU                                Product_Description  \\\n",
       "0  GGOENEBJ079499  Nest Learning Thermostat 3rd Gen-USA - Stainle...   \n",
       "1  GGOENEBJ079499  Nest Learning Thermostat 3rd Gen-USA - Stainle...   \n",
       "\n",
       "  Product_Category  Quantity  Avg_Price  Delivery_Charges Coupon_Status  GST  \\\n",
       "0         Nest-USA       1.0     153.71               6.5          Used  0.1   \n",
       "1         Nest-USA       1.0     153.71               6.5          Used  0.1   \n",
       "\n",
       "   Offline_Spend  Online_Spend  Month Coupon_Code  Discount_pct  TotalPrice  \n",
       "0         4500.0        2424.5      1      ELEC10          10.0      153.71  \n",
       "1         4500.0        2424.5      1      ELEC10          10.0      153.71  "
      ]
     },
     "execution_count": 5,
     "metadata": {},
     "output_type": "execute_result"
    }
   ],
   "source": [
    "online_shop3['TotalPrice'] = online_shop3['Quantity']*online_shop3['Avg_Price']\n",
    "online_shop3.head(2)"
   ]
  },
  {
   "cell_type": "code",
   "execution_count": 6,
   "id": "ea701d83",
   "metadata": {},
   "outputs": [
    {
     "data": {
      "image/png": "[encoded data removed]",
      "text/plain": [
       "<Figure size 640x480 with 1 Axes>"
      ]
     },
     "metadata": {},
     "output_type": "display_data"
    }
   ],
   "source": [
    "from matplotlib.ticker import FixedLocator, FixedFormatter\n",
    "\n",
    "\n",
    "\n",
    "product = online_shop3.groupby(by = 'Product_Category',as_index=True).TotalPrice.sum()\n",
    "\n",
    "shop = product.plot(kind='bar')\n",
    "y_ticks = [f'{val:,.0f}' for val in shop.get_yticks()]\n",
    "shop.yaxis.set_major_locator(FixedLocator(shop.get_yticks()))\n",
    "shop.yaxis.set_major_formatter(FixedFormatter(y_ticks))\n",
    "\n",
    "shop.set_ylabel('Value')\n",
    "plt.show()"
   ]
  },
  {
   "cell_type": "code",
   "execution_count": 7,
   "id": "44009fe6",
   "metadata": {},
   "outputs": [],
   "source": [
    "#is there a correlation between coupons and sales? or delivery charges and sales?"
   ]
  },
  {
   "cell_type": "code",
   "execution_count": 8,
   "id": "71be9edc",
   "metadata": {
    "scrolled": true
   },
   "outputs": [
    {
     "name": "stderr",
     "output_type": "stream",
     "text": [
      "C:\\Users\\User\\AppData\\Local\\Temp\\ipykernel_6424\\3159852289.py:2: SettingWithCopyWarning: \n",
      "A value is trying to be set on a copy of a slice from a DataFrame.\n",
      "Try using .loc[row_indexer,col_indexer] = value instead\n",
      "\n",
      "See the caveats in the documentation: https://pandas.pydata.org/pandas-docs/stable/user_guide/indexing.html#returning-a-view-versus-a-copy\n",
      "  online_shop3['Coupon_Status'] =online_shop3['Coupon_Status'].replace({'Clicked':'Used'})\n"
     ]
    },
    {
     "data": {
      "text/plain": [
       "<Axes: xlabel='Coupon_Status'>"
      ]
     },
     "execution_count": 8,
     "metadata": {},
     "output_type": "execute_result"
    },
    {
     "data": {
      "image/png": "[encoded data removed]",
      "text/plain": [
       "<Figure size 640x480 with 1 Axes>"
      ]
     },
     "metadata": {},
     "output_type": "display_data"
    }
   ],
   "source": [
    "#some value addition - joining the clicked with used status\n",
    "online_shop3['Coupon_Status'] =online_shop3['Coupon_Status'].replace({'Clicked':'Used'})\n",
    "\n",
    "online_shop3.groupby(by = 'Coupon_Status',as_index=True).TotalPrice.sum().plot(kind='bar')\n"
   ]
  },
  {
   "cell_type": "code",
   "execution_count": 9,
   "id": "dcf77858",
   "metadata": {},
   "outputs": [
    {
     "name": "stderr",
     "output_type": "stream",
     "text": [
      "C:\\Users\\User\\AppData\\Local\\Temp\\ipykernel_6424\\1182755292.py:4: SettingWithCopyWarning: \n",
      "A value is trying to be set on a copy of a slice from a DataFrame.\n",
      "Try using .loc[row_indexer,col_indexer] = value instead\n",
      "\n",
      "See the caveats in the documentation: https://pandas.pydata.org/pandas-docs/stable/user_guide/indexing.html#returning-a-view-versus-a-copy\n",
      "  new_df['Grouped']=new_df.groupby('CustomerID')['Product_Description'].transform(lambda x:','.join(x))\n"
     ]
    },
    {
     "data": {
      "text/html": [
       "<div>\n",
       "<style scoped>\n",
       "    .dataframe tbody tr th:only-of-type {\n",
       "        vertical-align: middle;\n",
       "    }\n",
       "\n",
       "    .dataframe tbody tr th {\n",
       "        vertical-align: top;\n",
       "    }\n",
       "\n",
       "    .dataframe thead th {\n",
       "        text-align: right;\n",
       "    }\n",
       "</style>\n",
       "<table border=\"1\" class=\"dataframe\">\n",
       "  <thead>\n",
       "    <tr style=\"text-align: right;\">\n",
       "      <th></th>\n",
       "      <th>CustomerID</th>\n",
       "      <th>Grouped</th>\n",
       "    </tr>\n",
       "  </thead>\n",
       "  <tbody>\n",
       "    <tr>\n",
       "      <th>0</th>\n",
       "      <td>17850.0</td>\n",
       "      <td>Nest Learning Thermostat 3rd Gen-USA - Stainle...</td>\n",
       "    </tr>\n",
       "    <tr>\n",
       "      <th>23</th>\n",
       "      <td>13047.0</td>\n",
       "      <td>Nest Cam Outdoor Security Camera - USA,Nest Pr...</td>\n",
       "    </tr>\n",
       "    <tr>\n",
       "      <th>27</th>\n",
       "      <td>12583.0</td>\n",
       "      <td>Nest Cam Indoor Security Camera - USA,Android ...</td>\n",
       "    </tr>\n",
       "    <tr>\n",
       "      <th>28</th>\n",
       "      <td>15100.0</td>\n",
       "      <td>Nest Learning Thermostat 3rd Gen-USA - Stainle...</td>\n",
       "    </tr>\n",
       "    <tr>\n",
       "      <th>29</th>\n",
       "      <td>14688.0</td>\n",
       "      <td>Nest Learning Thermostat 3rd Gen-USA - Stainle...</td>\n",
       "    </tr>\n",
       "    <tr>\n",
       "      <th>...</th>\n",
       "      <td>...</td>\n",
       "      <td>...</td>\n",
       "    </tr>\n",
       "    <tr>\n",
       "      <th>49176</th>\n",
       "      <td>12935.0</td>\n",
       "      <td>Google Doodle Decal,Android BTTF Moonshot Grap...</td>\n",
       "    </tr>\n",
       "    <tr>\n",
       "      <th>49240</th>\n",
       "      <td>12609.0</td>\n",
       "      <td>Keyboard DOT Sticker,Keyboard DOT Sticker,Goog...</td>\n",
       "    </tr>\n",
       "    <tr>\n",
       "      <th>49404</th>\n",
       "      <td>16660.0</td>\n",
       "      <td>Keyboard DOT Sticker,Google Twill Cap,Google S...</td>\n",
       "    </tr>\n",
       "    <tr>\n",
       "      <th>49896</th>\n",
       "      <td>14248.0</td>\n",
       "      <td>Google Women's Scoop Neck Tee Black,Google Wom...</td>\n",
       "    </tr>\n",
       "    <tr>\n",
       "      <th>50462</th>\n",
       "      <td>16387.0</td>\n",
       "      <td>Google Women's Scoop Neck Tee Black,Sport Bag,...</td>\n",
       "    </tr>\n",
       "  </tbody>\n",
       "</table>\n",
       "<p>1402 rows × 2 columns</p>\n",
       "</div>"
      ],
      "text/plain": [
       "       CustomerID                                            Grouped\n",
       "0         17850.0  Nest Learning Thermostat 3rd Gen-USA - Stainle...\n",
       "23        13047.0  Nest Cam Outdoor Security Camera - USA,Nest Pr...\n",
       "27        12583.0  Nest Cam Indoor Security Camera - USA,Android ...\n",
       "28        15100.0  Nest Learning Thermostat 3rd Gen-USA - Stainle...\n",
       "29        14688.0  Nest Learning Thermostat 3rd Gen-USA - Stainle...\n",
       "...           ...                                                ...\n",
       "49176     12935.0  Google Doodle Decal,Android BTTF Moonshot Grap...\n",
       "49240     12609.0  Keyboard DOT Sticker,Keyboard DOT Sticker,Goog...\n",
       "49404     16660.0  Keyboard DOT Sticker,Google Twill Cap,Google S...\n",
       "49896     14248.0  Google Women's Scoop Neck Tee Black,Google Wom...\n",
       "50462     16387.0  Google Women's Scoop Neck Tee Black,Sport Bag,...\n",
       "\n",
       "[1402 rows x 2 columns]"
      ]
     },
     "execution_count": 9,
     "metadata": {},
     "output_type": "execute_result"
    }
   ],
   "source": [
    "#Which products are often sold together \n",
    "new_df = online_shop3[online_shop3['CustomerID'].duplicated(keep = False)\n",
    "                ]\n",
    "new_df['Grouped']=new_df.groupby('CustomerID')['Product_Description'].transform(lambda x:','.join(x))\n",
    "\n",
    "new_df = new_df[['CustomerID', 'Grouped']].drop_duplicates()\n",
    "new_df"
   ]
  },
  {
   "cell_type": "code",
   "execution_count": 10,
   "id": "035695d5",
   "metadata": {},
   "outputs": [
    {
     "name": "stdout",
     "output_type": "stream",
     "text": [
      "('Nest Learning Thermostat 3rd Gen-USA - Stainless Steel', 'Nest Learning Thermostat 3rd Gen-USA - Stainless Steel') 13770\n",
      "('Nest Learning Thermostat 3rd Gen-USA - Stainless Steel', 'Nest Cam Outdoor Security Camera - USA') 13408\n",
      "('Nest Learning Thermostat 3rd Gen-USA - Stainless Steel', 'Nest Cam Indoor Security Camera - USA') 12643\n",
      "('Nest Cam Outdoor Security Camera - USA', 'Nest Learning Thermostat 3rd Gen-USA - Stainless Steel') 11289\n",
      "('Nest Cam Indoor Security Camera - USA', 'Nest Cam Outdoor Security Camera - USA') 11285\n",
      "('Nest Cam Indoor Security Camera - USA', 'Nest Learning Thermostat 3rd Gen-USA - Stainless Steel') 11154\n",
      "('Nest Cam Outdoor Security Camera - USA', 'Nest Cam Outdoor Security Camera - USA') 11045\n",
      "('Nest Cam Outdoor Security Camera - USA', 'Nest Cam Indoor Security Camera - USA') 10655\n",
      "('Nest Cam Indoor Security Camera - USA', 'Nest Cam Indoor Security Camera - USA') 10445\n",
      "('Nest Learning Thermostat 3rd Gen-USA - Stainless Steel', 'Google Sunglasses') 8493\n"
     ]
    }
   ],
   "source": [
    "from itertools import combinations\n",
    "from collections import Counter\n",
    "\n",
    "count = Counter()\n",
    "\n",
    "for row in new_df['Grouped']:\n",
    "    row_list = row.split(',')\n",
    "    count.update(Counter(combinations(row_list,2)))\n",
    "    \n",
    "for key, value in count.most_common(10):\n",
    "    print(key,value)"
   ]
  },
  {
   "cell_type": "code",
   "execution_count": null,
   "id": "b3caa719",
   "metadata": {},
   "outputs": [],
   "source": []
  }
 ],
 "metadata": {
  "kernelspec": {
   "display_name": "Python 3 (ipykernel)",
   "language": "python",
   "name": "python3"
  },
  "language_info": {
   "codemirror_mode": {
    "name": "ipython",
    "version": 3
   },
   "file_extension": ".py",
   "mimetype": "text/x-python",
   "name": "python",
   "nbconvert_exporter": "python",
   "pygments_lexer": "ipython3",
   "version": "3.10.9"
  }
 },
 "nbformat": 4,
 "nbformat_minor": 5
}
